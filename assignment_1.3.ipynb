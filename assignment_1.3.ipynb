{
 "cells": [
  {
   "cell_type": "markdown",
   "id": "064f6486",
   "metadata": {},
   "source": [
    "# Prediction with Machine Learning for Economists \n",
    "## Central European University, 2021/22 Fall\n",
    "\n",
    "Instructor: Prof Gábor Békés, TA: János Bíró\n",
    "\n",
    "Student: Mingming Li\n",
    "\n",
    "Email: <Li_Mingming@phd.ceu.edu>"
   ]
  },
  {
   "cell_type": "markdown",
   "id": "4123f5b6",
   "metadata": {},
   "source": [
    "## Tasks for Assignment 1 \n",
    "\n",
    "1 Models: the target variable is earnings per hour, all others would be predictors.\n",
    "\n",
    "2 Model 1 shall be the simplest, model 4 the more complex. It shall be OLS. You shall explain your choice of predictors.\n",
    "\n",
    "3 Compare model performance of these models (a) RMSE in the full sample, (2) cross-validated RMSE and (c) BIC in the full sample. \n",
    "\n",
    "4 Discuss the relationship between model complexity and performance. You may use visual aids. \n",
    "\n",
    "5 You should submit your code in Github and 1 page report in pdf on Moodle. \n",
    "\n"
   ]
  },
  {
   "cell_type": "code",
   "execution_count": 1,
   "id": "05f9c895",
   "metadata": {},
   "outputs": [],
   "source": [
    "import warnings\n",
    "import pandas as pd\n",
    "import numpy as np\n",
    "import seaborn as sns\n",
    "import matplotlib.pyplot as plt\n",
    "import statsmodels.formula.api as smf\n",
    "from sklearn.model_selection import KFold\n",
    "from stargazer.stargazer import Stargazer\n",
    "\n",
    "\n",
    "warnings.filterwarnings(\"ignore\")"
   ]
  },
  {
   "cell_type": "code",
   "execution_count": 2,
   "id": "10acd473",
   "metadata": {},
   "outputs": [],
   "source": [
    "df = pd.read_csv('morg-2014-emp.csv')"
   ]
  },
  {
   "cell_type": "code",
   "execution_count": 3,
   "id": "a16e9566",
   "metadata": {},
   "outputs": [
    {
     "name": "stdout",
     "output_type": "stream",
     "text": [
      "<class 'pandas.core.frame.DataFrame'>\n",
      "RangeIndex: 149316 entries, 0 to 149315\n",
      "Data columns (total 23 columns):\n",
      " #   Column      Non-Null Count   Dtype  \n",
      "---  ------      --------------   -----  \n",
      " 0   Unnamed: 0  149316 non-null  int64  \n",
      " 1   hhid        149316 non-null  int64  \n",
      " 2   intmonth    149316 non-null  object \n",
      " 3   stfips      149316 non-null  object \n",
      " 4   weight      149316 non-null  float64\n",
      " 5   earnwke     149316 non-null  float64\n",
      " 6   uhours      149316 non-null  int64  \n",
      " 7   grade92     149316 non-null  int64  \n",
      " 8   race        149316 non-null  int64  \n",
      " 9   ethnic      20071 non-null   float64\n",
      " 10  age         149316 non-null  int64  \n",
      " 11  sex         149316 non-null  int64  \n",
      " 12  marital     149316 non-null  int64  \n",
      " 13  ownchild    149316 non-null  int64  \n",
      " 14  chldpres    149316 non-null  int64  \n",
      " 15  prcitshp    149316 non-null  object \n",
      " 16  state       149316 non-null  object \n",
      " 17  ind02       149316 non-null  object \n",
      " 18  occ2012     149316 non-null  int64  \n",
      " 19  class       149316 non-null  object \n",
      " 20  unionmme    149316 non-null  object \n",
      " 21  unioncov    132220 non-null  object \n",
      " 22  lfsr94      149316 non-null  object \n",
      "dtypes: float64(3), int64(11), object(9)\n",
      "memory usage: 26.2+ MB\n"
     ]
    }
   ],
   "source": [
    "df.info()  # two columns(ethnic and unioncov) missing data"
   ]
  },
  {
   "cell_type": "markdown",
   "id": "7e570389",
   "metadata": {},
   "source": [
    "### Select occupations: all types of teachers, occ2012 from 2200 to 2340\n",
    "\n",
    "2200 Postsecondary teachers  \n",
    "2300 Preschool and kindergarten teachers  \n",
    "2310 Elementary and middle school teachers  \n",
    "2320 Secondary school teachers  \n",
    "2330 Special education teachers  \n",
    "2340 Other teachers and instructors  "
   ]
  },
  {
   "cell_type": "code",
   "execution_count": 4,
   "id": "30f2cfb4",
   "metadata": {},
   "outputs": [],
   "source": [
    "df.loc[((df['occ2012'] >= 2200) & (df['occ2012'] <= 2340)), 'sample'] = 1\n",
    "# Extract the data information of the selected occupation\n",
    "df = df.loc[df['sample'] == 1, :].reset_index(drop=True)"
   ]
  },
  {
   "cell_type": "code",
   "execution_count": 5,
   "id": "4b66b37b",
   "metadata": {},
   "outputs": [
    {
     "data": {
      "text/plain": [
       "8278"
      ]
     },
     "execution_count": 5,
     "metadata": {},
     "output_type": "execute_result"
    }
   ],
   "source": [
    "len(df)  # Total number of teachers"
   ]
  },
  {
   "cell_type": "markdown",
   "id": "9aea3a67",
   "metadata": {},
   "source": [
    "**Task 1： Models: the target variable is earnings per hour, all others would be predictors.**"
   ]
  },
  {
   "cell_type": "code",
   "execution_count": 6,
   "id": "737e9116",
   "metadata": {},
   "outputs": [],
   "source": [
    "# target value of this task\n",
    "df['earn_per_hour'] = df['earnwke'] / df['uhours']\n",
    "df['lnw'] = np.log(df['earn_per_hour'])"
   ]
  },
  {
   "cell_type": "code",
   "execution_count": 7,
   "id": "0dab1029",
   "metadata": {},
   "outputs": [
    {
     "data": {
      "text/html": [
       "<div>\n",
       "<style scoped>\n",
       "    .dataframe tbody tr th:only-of-type {\n",
       "        vertical-align: middle;\n",
       "    }\n",
       "\n",
       "    .dataframe tbody tr th {\n",
       "        vertical-align: top;\n",
       "    }\n",
       "\n",
       "    .dataframe thead th {\n",
       "        text-align: right;\n",
       "    }\n",
       "</style>\n",
       "<table border=\"1\" class=\"dataframe\">\n",
       "  <thead>\n",
       "    <tr style=\"text-align: right;\">\n",
       "      <th></th>\n",
       "      <th>earnwke</th>\n",
       "      <th>uhours</th>\n",
       "      <th>earn_per_hour</th>\n",
       "    </tr>\n",
       "  </thead>\n",
       "  <tbody>\n",
       "    <tr>\n",
       "      <th>count</th>\n",
       "      <td>8278.000000</td>\n",
       "      <td>8278.000000</td>\n",
       "      <td>8278.000000</td>\n",
       "    </tr>\n",
       "    <tr>\n",
       "      <th>mean</th>\n",
       "      <td>993.516006</td>\n",
       "      <td>39.145567</td>\n",
       "      <td>25.605661</td>\n",
       "    </tr>\n",
       "    <tr>\n",
       "      <th>std</th>\n",
       "      <td>586.851367</td>\n",
       "      <td>10.964558</td>\n",
       "      <td>20.748074</td>\n",
       "    </tr>\n",
       "    <tr>\n",
       "      <th>min</th>\n",
       "      <td>0.230000</td>\n",
       "      <td>1.000000</td>\n",
       "      <td>0.004107</td>\n",
       "    </tr>\n",
       "    <tr>\n",
       "      <th>25%</th>\n",
       "      <td>583.232500</td>\n",
       "      <td>40.000000</td>\n",
       "      <td>15.734182</td>\n",
       "    </tr>\n",
       "    <tr>\n",
       "      <th>50%</th>\n",
       "      <td>923.000000</td>\n",
       "      <td>40.000000</td>\n",
       "      <td>22.500000</td>\n",
       "    </tr>\n",
       "    <tr>\n",
       "      <th>75%</th>\n",
       "      <td>1250.000000</td>\n",
       "      <td>40.000000</td>\n",
       "      <td>31.110833</td>\n",
       "    </tr>\n",
       "    <tr>\n",
       "      <th>max</th>\n",
       "      <td>2884.610000</td>\n",
       "      <td>99.000000</td>\n",
       "      <td>1076.920000</td>\n",
       "    </tr>\n",
       "  </tbody>\n",
       "</table>\n",
       "</div>"
      ],
      "text/plain": [
       "           earnwke       uhours  earn_per_hour\n",
       "count  8278.000000  8278.000000    8278.000000\n",
       "mean    993.516006    39.145567      25.605661\n",
       "std     586.851367    10.964558      20.748074\n",
       "min       0.230000     1.000000       0.004107\n",
       "25%     583.232500    40.000000      15.734182\n",
       "50%     923.000000    40.000000      22.500000\n",
       "75%    1250.000000    40.000000      31.110833\n",
       "max    2884.610000    99.000000    1076.920000"
      ]
     },
     "execution_count": 7,
     "metadata": {},
     "output_type": "execute_result"
    }
   ],
   "source": [
    "# distribution of earning\n",
    "df.loc[:, ['earnwke', 'uhours', 'earn_per_hour']].describe()"
   ]
  },
  {
   "cell_type": "code",
   "execution_count": 8,
   "id": "41c86155",
   "metadata": {},
   "outputs": [],
   "source": [
    "df['female'] = (df['sex'] == 2).astype(int)  # 1: female  0: male\n",
    "df['agesq'] = np.square(df['age'])"
   ]
  },
  {
   "cell_type": "code",
   "execution_count": 9,
   "id": "566b8d46",
   "metadata": {},
   "outputs": [
    {
     "data": {
      "text/plain": [
       "<AxesSubplot:xlabel='female', ylabel='count'>"
      ]
     },
     "execution_count": 9,
     "metadata": {},
     "output_type": "execute_result"
    },
    {
     "data": {
      "image/png": "[encoded data removed]",
      "text/plain": [
       "<Figure size 432x288 with 1 Axes>"
      ]
     },
     "metadata": {
      "needs_background": "light"
     },
     "output_type": "display_data"
    }
   ],
   "source": [
    "# sex count\n",
    "sns.countplot(x='female', data=df, palette='BuPu_r')"
   ]
  },
  {
   "cell_type": "markdown",
   "id": "5cc525fd",
   "metadata": {},
   "source": [
    "**Task 2： Model 1 shall be the simplest, model 4 the more complex. It shall be OLS. You shall explain your choice of predictors.**"
   ]
  },
  {
   "cell_type": "code",
   "execution_count": 10,
   "id": "6d7aaf44",
   "metadata": {},
   "outputs": [
    {
     "data": {
      "text/html": [
       "<table class=\"simpletable\">\n",
       "<caption>OLS Regression Results</caption>\n",
       "<tr>\n",
       "  <th>Dep. Variable:</th>           <td>lnw</td>       <th>  R-squared:         </th> <td>   0.018</td> \n",
       "</tr>\n",
       "<tr>\n",
       "  <th>Model:</th>                   <td>OLS</td>       <th>  Adj. R-squared:    </th> <td>   0.018</td> \n",
       "</tr>\n",
       "<tr>\n",
       "  <th>Method:</th>             <td>Least Squares</td>  <th>  F-statistic:       </th> <td>   150.4</td> \n",
       "</tr>\n",
       "<tr>\n",
       "  <th>Date:</th>             <td>Sun, 03 Oct 2021</td> <th>  Prob (F-statistic):</th> <td>2.84e-34</td> \n",
       "</tr>\n",
       "<tr>\n",
       "  <th>Time:</th>                 <td>11:28:10</td>     <th>  Log-Likelihood:    </th> <td> -7133.4</td> \n",
       "</tr>\n",
       "<tr>\n",
       "  <th>No. Observations:</th>      <td>  8278</td>      <th>  AIC:               </th> <td>1.427e+04</td>\n",
       "</tr>\n",
       "<tr>\n",
       "  <th>Df Residuals:</th>          <td>  8276</td>      <th>  BIC:               </th> <td>1.428e+04</td>\n",
       "</tr>\n",
       "<tr>\n",
       "  <th>Df Model:</th>              <td>     1</td>      <th>                     </th>     <td> </td>    \n",
       "</tr>\n",
       "<tr>\n",
       "  <th>Covariance Type:</th>      <td>nonrobust</td>    <th>                     </th>     <td> </td>    \n",
       "</tr>\n",
       "</table>\n",
       "<table class=\"simpletable\">\n",
       "<tr>\n",
       "      <td></td>         <th>coef</th>     <th>std err</th>      <th>t</th>      <th>P>|t|</th>  <th>[0.025</th>    <th>0.975]</th>  \n",
       "</tr>\n",
       "<tr>\n",
       "  <th>Intercept</th> <td>    3.2132</td> <td>    0.012</td> <td>  264.928</td> <td> 0.000</td> <td>    3.189</td> <td>    3.237</td>\n",
       "</tr>\n",
       "<tr>\n",
       "  <th>female</th>    <td>   -0.1740</td> <td>    0.014</td> <td>  -12.263</td> <td> 0.000</td> <td>   -0.202</td> <td>   -0.146</td>\n",
       "</tr>\n",
       "</table>\n",
       "<table class=\"simpletable\">\n",
       "<tr>\n",
       "  <th>Omnibus:</th>       <td>3624.823</td> <th>  Durbin-Watson:     </th>  <td>   1.881</td> \n",
       "</tr>\n",
       "<tr>\n",
       "  <th>Prob(Omnibus):</th>  <td> 0.000</td>  <th>  Jarque-Bera (JB):  </th> <td>112353.405</td>\n",
       "</tr>\n",
       "<tr>\n",
       "  <th>Skew:</th>           <td>-1.479</td>  <th>  Prob(JB):          </th>  <td>    0.00</td> \n",
       "</tr>\n",
       "<tr>\n",
       "  <th>Kurtosis:</th>       <td>20.804</td>  <th>  Cond. No.          </th>  <td>    3.62</td> \n",
       "</tr>\n",
       "</table><br/><br/>Notes:<br/>[1] Standard Errors assume that the covariance matrix of the errors is correctly specified."
      ],
      "text/plain": [
       "<class 'statsmodels.iolib.summary.Summary'>\n",
       "\"\"\"\n",
       "                            OLS Regression Results                            \n",
       "==============================================================================\n",
       "Dep. Variable:                    lnw   R-squared:                       0.018\n",
       "Model:                            OLS   Adj. R-squared:                  0.018\n",
       "Method:                 Least Squares   F-statistic:                     150.4\n",
       "Date:                Sun, 03 Oct 2021   Prob (F-statistic):           2.84e-34\n",
       "Time:                        11:28:10   Log-Likelihood:                -7133.4\n",
       "No. Observations:                8278   AIC:                         1.427e+04\n",
       "Df Residuals:                    8276   BIC:                         1.428e+04\n",
       "Df Model:                           1                                         \n",
       "Covariance Type:            nonrobust                                         \n",
       "==============================================================================\n",
       "                 coef    std err          t      P>|t|      [0.025      0.975]\n",
       "------------------------------------------------------------------------------\n",
       "Intercept      3.2132      0.012    264.928      0.000       3.189       3.237\n",
       "female        -0.1740      0.014    -12.263      0.000      -0.202      -0.146\n",
       "==============================================================================\n",
       "Omnibus:                     3624.823   Durbin-Watson:                   1.881\n",
       "Prob(Omnibus):                  0.000   Jarque-Bera (JB):           112353.405\n",
       "Skew:                          -1.479   Prob(JB):                         0.00\n",
       "Kurtosis:                      20.804   Cond. No.                         3.62\n",
       "==============================================================================\n",
       "\n",
       "Notes:\n",
       "[1] Standard Errors assume that the covariance matrix of the errors is correctly specified.\n",
       "\"\"\""
      ]
     },
     "execution_count": 10,
     "metadata": {},
     "output_type": "execute_result"
    }
   ],
   "source": [
    "# linear regression model one\n",
    "reg1 = smf.ols(formula='lnw~female', data=df).fit()\n",
    "reg1.summary()"
   ]
  },
  {
   "cell_type": "code",
   "execution_count": 11,
   "id": "7df3175d",
   "metadata": {},
   "outputs": [
    {
     "data": {
      "text/html": [
       "<table class=\"simpletable\">\n",
       "<caption>OLS Regression Results</caption>\n",
       "<tr>\n",
       "  <th>Dep. Variable:</th>           <td>lnw</td>       <th>  R-squared:         </th> <td>   0.089</td> \n",
       "</tr>\n",
       "<tr>\n",
       "  <th>Model:</th>                   <td>OLS</td>       <th>  Adj. R-squared:    </th> <td>   0.089</td> \n",
       "</tr>\n",
       "<tr>\n",
       "  <th>Method:</th>             <td>Least Squares</td>  <th>  F-statistic:       </th> <td>   403.8</td> \n",
       "</tr>\n",
       "<tr>\n",
       "  <th>Date:</th>             <td>Sun, 03 Oct 2021</td> <th>  Prob (F-statistic):</th> <td>4.54e-168</td>\n",
       "</tr>\n",
       "<tr>\n",
       "  <th>Time:</th>                 <td>11:28:10</td>     <th>  Log-Likelihood:    </th> <td> -6822.5</td> \n",
       "</tr>\n",
       "<tr>\n",
       "  <th>No. Observations:</th>      <td>  8278</td>      <th>  AIC:               </th> <td>1.365e+04</td>\n",
       "</tr>\n",
       "<tr>\n",
       "  <th>Df Residuals:</th>          <td>  8275</td>      <th>  BIC:               </th> <td>1.367e+04</td>\n",
       "</tr>\n",
       "<tr>\n",
       "  <th>Df Model:</th>              <td>     2</td>      <th>                     </th>     <td> </td>    \n",
       "</tr>\n",
       "<tr>\n",
       "  <th>Covariance Type:</th>      <td>nonrobust</td>    <th>                     </th>     <td> </td>    \n",
       "</tr>\n",
       "</table>\n",
       "<table class=\"simpletable\">\n",
       "<tr>\n",
       "      <td></td>         <th>coef</th>     <th>std err</th>      <th>t</th>      <th>P>|t|</th>  <th>[0.025</th>    <th>0.975]</th>  \n",
       "</tr>\n",
       "<tr>\n",
       "  <th>Intercept</th> <td>    2.6705</td> <td>    0.024</td> <td>  109.684</td> <td> 0.000</td> <td>    2.623</td> <td>    2.718</td>\n",
       "</tr>\n",
       "<tr>\n",
       "  <th>female</th>    <td>   -0.1744</td> <td>    0.014</td> <td>  -12.762</td> <td> 0.000</td> <td>   -0.201</td> <td>   -0.148</td>\n",
       "</tr>\n",
       "<tr>\n",
       "  <th>age</th>       <td>    0.0130</td> <td>    0.001</td> <td>   25.408</td> <td> 0.000</td> <td>    0.012</td> <td>    0.014</td>\n",
       "</tr>\n",
       "</table>\n",
       "<table class=\"simpletable\">\n",
       "<tr>\n",
       "  <th>Omnibus:</th>       <td>4098.660</td> <th>  Durbin-Watson:     </th>  <td>   1.886</td> \n",
       "</tr>\n",
       "<tr>\n",
       "  <th>Prob(Omnibus):</th>  <td> 0.000</td>  <th>  Jarque-Bera (JB):  </th> <td>162415.100</td>\n",
       "</tr>\n",
       "<tr>\n",
       "  <th>Skew:</th>           <td>-1.697</td>  <th>  Prob(JB):          </th>  <td>    0.00</td> \n",
       "</tr>\n",
       "<tr>\n",
       "  <th>Kurtosis:</th>       <td>24.433</td>  <th>  Cond. No.          </th>  <td>    180.</td> \n",
       "</tr>\n",
       "</table><br/><br/>Notes:<br/>[1] Standard Errors assume that the covariance matrix of the errors is correctly specified."
      ],
      "text/plain": [
       "<class 'statsmodels.iolib.summary.Summary'>\n",
       "\"\"\"\n",
       "                            OLS Regression Results                            \n",
       "==============================================================================\n",
       "Dep. Variable:                    lnw   R-squared:                       0.089\n",
       "Model:                            OLS   Adj. R-squared:                  0.089\n",
       "Method:                 Least Squares   F-statistic:                     403.8\n",
       "Date:                Sun, 03 Oct 2021   Prob (F-statistic):          4.54e-168\n",
       "Time:                        11:28:10   Log-Likelihood:                -6822.5\n",
       "No. Observations:                8278   AIC:                         1.365e+04\n",
       "Df Residuals:                    8275   BIC:                         1.367e+04\n",
       "Df Model:                           2                                         \n",
       "Covariance Type:            nonrobust                                         \n",
       "==============================================================================\n",
       "                 coef    std err          t      P>|t|      [0.025      0.975]\n",
       "------------------------------------------------------------------------------\n",
       "Intercept      2.6705      0.024    109.684      0.000       2.623       2.718\n",
       "female        -0.1744      0.014    -12.762      0.000      -0.201      -0.148\n",
       "age            0.0130      0.001     25.408      0.000       0.012       0.014\n",
       "==============================================================================\n",
       "Omnibus:                     4098.660   Durbin-Watson:                   1.886\n",
       "Prob(Omnibus):                  0.000   Jarque-Bera (JB):           162415.100\n",
       "Skew:                          -1.697   Prob(JB):                         0.00\n",
       "Kurtosis:                      24.433   Cond. No.                         180.\n",
       "==============================================================================\n",
       "\n",
       "Notes:\n",
       "[1] Standard Errors assume that the covariance matrix of the errors is correctly specified.\n",
       "\"\"\""
      ]
     },
     "execution_count": 11,
     "metadata": {},
     "output_type": "execute_result"
    }
   ],
   "source": [
    "# linear regression model two\n",
    "reg2 = smf.ols(formula='lnw~female+age', data=df).fit()\n",
    "reg2.summary()"
   ]
  },
  {
   "cell_type": "code",
   "execution_count": 12,
   "id": "c44be0b1",
   "metadata": {},
   "outputs": [
    {
     "data": {
      "text/html": [
       "<table class=\"simpletable\">\n",
       "<caption>OLS Regression Results</caption>\n",
       "<tr>\n",
       "  <th>Dep. Variable:</th>           <td>lnw</td>       <th>  R-squared:         </th> <td>   0.116</td> \n",
       "</tr>\n",
       "<tr>\n",
       "  <th>Model:</th>                   <td>OLS</td>       <th>  Adj. R-squared:    </th> <td>   0.116</td> \n",
       "</tr>\n",
       "<tr>\n",
       "  <th>Method:</th>             <td>Least Squares</td>  <th>  F-statistic:       </th> <td>   362.3</td> \n",
       "</tr>\n",
       "<tr>\n",
       "  <th>Date:</th>             <td>Sun, 03 Oct 2021</td> <th>  Prob (F-statistic):</th> <td>4.61e-221</td>\n",
       "</tr>\n",
       "<tr>\n",
       "  <th>Time:</th>                 <td>11:28:10</td>     <th>  Log-Likelihood:    </th> <td> -6697.2</td> \n",
       "</tr>\n",
       "<tr>\n",
       "  <th>No. Observations:</th>      <td>  8278</td>      <th>  AIC:               </th> <td>1.340e+04</td>\n",
       "</tr>\n",
       "<tr>\n",
       "  <th>Df Residuals:</th>          <td>  8274</td>      <th>  BIC:               </th> <td>1.343e+04</td>\n",
       "</tr>\n",
       "<tr>\n",
       "  <th>Df Model:</th>              <td>     3</td>      <th>                     </th>     <td> </td>    \n",
       "</tr>\n",
       "<tr>\n",
       "  <th>Covariance Type:</th>      <td>nonrobust</td>    <th>                     </th>     <td> </td>    \n",
       "</tr>\n",
       "</table>\n",
       "<table class=\"simpletable\">\n",
       "<tr>\n",
       "      <td></td>         <th>coef</th>     <th>std err</th>      <th>t</th>      <th>P>|t|</th>  <th>[0.025</th>    <th>0.975]</th>  \n",
       "</tr>\n",
       "<tr>\n",
       "  <th>Intercept</th> <td>    1.5165</td> <td>    0.076</td> <td>   19.895</td> <td> 0.000</td> <td>    1.367</td> <td>    1.666</td>\n",
       "</tr>\n",
       "<tr>\n",
       "  <th>female</th>    <td>   -0.1811</td> <td>    0.013</td> <td>  -13.446</td> <td> 0.000</td> <td>   -0.208</td> <td>   -0.155</td>\n",
       "</tr>\n",
       "<tr>\n",
       "  <th>age</th>       <td>    0.0726</td> <td>    0.004</td> <td>   19.259</td> <td> 0.000</td> <td>    0.065</td> <td>    0.080</td>\n",
       "</tr>\n",
       "<tr>\n",
       "  <th>agesq</th>     <td>   -0.0007</td> <td> 4.42e-05</td> <td>  -15.950</td> <td> 0.000</td> <td>   -0.001</td> <td>   -0.001</td>\n",
       "</tr>\n",
       "</table>\n",
       "<table class=\"simpletable\">\n",
       "<tr>\n",
       "  <th>Omnibus:</th>       <td>4264.570</td> <th>  Durbin-Watson:     </th>  <td>   1.887</td> \n",
       "</tr>\n",
       "<tr>\n",
       "  <th>Prob(Omnibus):</th>  <td> 0.000</td>  <th>  Jarque-Bera (JB):  </th> <td>190464.739</td>\n",
       "</tr>\n",
       "<tr>\n",
       "  <th>Skew:</th>           <td>-1.765</td>  <th>  Prob(JB):          </th>  <td>    0.00</td> \n",
       "</tr>\n",
       "<tr>\n",
       "  <th>Kurtosis:</th>       <td>26.232</td>  <th>  Cond. No.          </th>  <td>2.73e+04</td> \n",
       "</tr>\n",
       "</table><br/><br/>Notes:<br/>[1] Standard Errors assume that the covariance matrix of the errors is correctly specified.<br/>[2] The condition number is large, 2.73e+04. This might indicate that there are<br/>strong multicollinearity or other numerical problems."
      ],
      "text/plain": [
       "<class 'statsmodels.iolib.summary.Summary'>\n",
       "\"\"\"\n",
       "                            OLS Regression Results                            \n",
       "==============================================================================\n",
       "Dep. Variable:                    lnw   R-squared:                       0.116\n",
       "Model:                            OLS   Adj. R-squared:                  0.116\n",
       "Method:                 Least Squares   F-statistic:                     362.3\n",
       "Date:                Sun, 03 Oct 2021   Prob (F-statistic):          4.61e-221\n",
       "Time:                        11:28:10   Log-Likelihood:                -6697.2\n",
       "No. Observations:                8278   AIC:                         1.340e+04\n",
       "Df Residuals:                    8274   BIC:                         1.343e+04\n",
       "Df Model:                           3                                         \n",
       "Covariance Type:            nonrobust                                         \n",
       "==============================================================================\n",
       "                 coef    std err          t      P>|t|      [0.025      0.975]\n",
       "------------------------------------------------------------------------------\n",
       "Intercept      1.5165      0.076     19.895      0.000       1.367       1.666\n",
       "female        -0.1811      0.013    -13.446      0.000      -0.208      -0.155\n",
       "age            0.0726      0.004     19.259      0.000       0.065       0.080\n",
       "agesq         -0.0007   4.42e-05    -15.950      0.000      -0.001      -0.001\n",
       "==============================================================================\n",
       "Omnibus:                     4264.570   Durbin-Watson:                   1.887\n",
       "Prob(Omnibus):                  0.000   Jarque-Bera (JB):           190464.739\n",
       "Skew:                          -1.765   Prob(JB):                         0.00\n",
       "Kurtosis:                      26.232   Cond. No.                     2.73e+04\n",
       "==============================================================================\n",
       "\n",
       "Notes:\n",
       "[1] Standard Errors assume that the covariance matrix of the errors is correctly specified.\n",
       "[2] The condition number is large, 2.73e+04. This might indicate that there are\n",
       "strong multicollinearity or other numerical problems.\n",
       "\"\"\""
      ]
     },
     "execution_count": 12,
     "metadata": {},
     "output_type": "execute_result"
    }
   ],
   "source": [
    "# linear regression model three\n",
    "reg3 = smf.ols(formula='lnw~female+age+agesq', data=df).fit()\n",
    "reg3.summary()"
   ]
  },
  {
   "cell_type": "code",
   "execution_count": 13,
   "id": "022405e9",
   "metadata": {},
   "outputs": [
    {
     "data": {
      "text/html": [
       "<table class=\"simpletable\">\n",
       "<caption>OLS Regression Results</caption>\n",
       "<tr>\n",
       "  <th>Dep. Variable:</th>           <td>lnw</td>       <th>  R-squared:         </th> <td>   0.190</td> \n",
       "</tr>\n",
       "<tr>\n",
       "  <th>Model:</th>                   <td>OLS</td>       <th>  Adj. R-squared:    </th> <td>   0.190</td> \n",
       "</tr>\n",
       "<tr>\n",
       "  <th>Method:</th>             <td>Least Squares</td>  <th>  F-statistic:       </th> <td>   485.2</td> \n",
       "</tr>\n",
       "<tr>\n",
       "  <th>Date:</th>             <td>Sun, 03 Oct 2021</td> <th>  Prob (F-statistic):</th>  <td>  0.00</td>  \n",
       "</tr>\n",
       "<tr>\n",
       "  <th>Time:</th>                 <td>11:28:10</td>     <th>  Log-Likelihood:    </th> <td> -6335.7</td> \n",
       "</tr>\n",
       "<tr>\n",
       "  <th>No. Observations:</th>      <td>  8278</td>      <th>  AIC:               </th> <td>1.268e+04</td>\n",
       "</tr>\n",
       "<tr>\n",
       "  <th>Df Residuals:</th>          <td>  8273</td>      <th>  BIC:               </th> <td>1.272e+04</td>\n",
       "</tr>\n",
       "<tr>\n",
       "  <th>Df Model:</th>              <td>     4</td>      <th>                     </th>     <td> </td>    \n",
       "</tr>\n",
       "<tr>\n",
       "  <th>Covariance Type:</th>      <td>nonrobust</td>    <th>                     </th>     <td> </td>    \n",
       "</tr>\n",
       "</table>\n",
       "<table class=\"simpletable\">\n",
       "<tr>\n",
       "      <td></td>         <th>coef</th>     <th>std err</th>      <th>t</th>      <th>P>|t|</th>  <th>[0.025</th>    <th>0.975]</th>  \n",
       "</tr>\n",
       "<tr>\n",
       "  <th>Intercept</th> <td>   -2.4306</td> <td>    0.161</td> <td>  -15.085</td> <td> 0.000</td> <td>   -2.746</td> <td>   -2.115</td>\n",
       "</tr>\n",
       "<tr>\n",
       "  <th>female</th>    <td>   -0.1406</td> <td>    0.013</td> <td>  -10.833</td> <td> 0.000</td> <td>   -0.166</td> <td>   -0.115</td>\n",
       "</tr>\n",
       "<tr>\n",
       "  <th>age</th>       <td>    0.0496</td> <td>    0.004</td> <td>   13.383</td> <td> 0.000</td> <td>    0.042</td> <td>    0.057</td>\n",
       "</tr>\n",
       "<tr>\n",
       "  <th>agesq</th>     <td>   -0.0005</td> <td> 4.32e-05</td> <td>  -10.806</td> <td> 0.000</td> <td>   -0.001</td> <td>   -0.000</td>\n",
       "</tr>\n",
       "<tr>\n",
       "  <th>grade92</th>   <td>    0.1024</td> <td>    0.004</td> <td>   27.476</td> <td> 0.000</td> <td>    0.095</td> <td>    0.110</td>\n",
       "</tr>\n",
       "</table>\n",
       "<table class=\"simpletable\">\n",
       "<tr>\n",
       "  <th>Omnibus:</th>       <td>4730.249</td> <th>  Durbin-Watson:     </th>  <td>   1.881</td> \n",
       "</tr>\n",
       "<tr>\n",
       "  <th>Prob(Omnibus):</th>  <td> 0.000</td>  <th>  Jarque-Bera (JB):  </th> <td>288088.706</td>\n",
       "</tr>\n",
       "<tr>\n",
       "  <th>Skew:</th>           <td>-1.973</td>  <th>  Prob(JB):          </th>  <td>    0.00</td> \n",
       "</tr>\n",
       "<tr>\n",
       "  <th>Kurtosis:</th>       <td>31.630</td>  <th>  Cond. No.          </th>  <td>6.02e+04</td> \n",
       "</tr>\n",
       "</table><br/><br/>Notes:<br/>[1] Standard Errors assume that the covariance matrix of the errors is correctly specified.<br/>[2] The condition number is large, 6.02e+04. This might indicate that there are<br/>strong multicollinearity or other numerical problems."
      ],
      "text/plain": [
       "<class 'statsmodels.iolib.summary.Summary'>\n",
       "\"\"\"\n",
       "                            OLS Regression Results                            \n",
       "==============================================================================\n",
       "Dep. Variable:                    lnw   R-squared:                       0.190\n",
       "Model:                            OLS   Adj. R-squared:                  0.190\n",
       "Method:                 Least Squares   F-statistic:                     485.2\n",
       "Date:                Sun, 03 Oct 2021   Prob (F-statistic):               0.00\n",
       "Time:                        11:28:10   Log-Likelihood:                -6335.7\n",
       "No. Observations:                8278   AIC:                         1.268e+04\n",
       "Df Residuals:                    8273   BIC:                         1.272e+04\n",
       "Df Model:                           4                                         \n",
       "Covariance Type:            nonrobust                                         \n",
       "==============================================================================\n",
       "                 coef    std err          t      P>|t|      [0.025      0.975]\n",
       "------------------------------------------------------------------------------\n",
       "Intercept     -2.4306      0.161    -15.085      0.000      -2.746      -2.115\n",
       "female        -0.1406      0.013    -10.833      0.000      -0.166      -0.115\n",
       "age            0.0496      0.004     13.383      0.000       0.042       0.057\n",
       "agesq         -0.0005   4.32e-05    -10.806      0.000      -0.001      -0.000\n",
       "grade92        0.1024      0.004     27.476      0.000       0.095       0.110\n",
       "==============================================================================\n",
       "Omnibus:                     4730.249   Durbin-Watson:                   1.881\n",
       "Prob(Omnibus):                  0.000   Jarque-Bera (JB):           288088.706\n",
       "Skew:                          -1.973   Prob(JB):                         0.00\n",
       "Kurtosis:                      31.630   Cond. No.                     6.02e+04\n",
       "==============================================================================\n",
       "\n",
       "Notes:\n",
       "[1] Standard Errors assume that the covariance matrix of the errors is correctly specified.\n",
       "[2] The condition number is large, 6.02e+04. This might indicate that there are\n",
       "strong multicollinearity or other numerical problems.\n",
       "\"\"\""
      ]
     },
     "execution_count": 13,
     "metadata": {},
     "output_type": "execute_result"
    }
   ],
   "source": [
    "# linear regression model four\n",
    "reg4 = smf.ols(formula='lnw~female+age+agesq+grade92', data=df).fit()\n",
    "reg4.summary()"
   ]
  },
  {
   "cell_type": "markdown",
   "id": "d9874173",
   "metadata": {},
   "source": [
    "**Task 3： Compare model performance of these models (a) RMSE in the full sample, (2) cross-validated RMSE and (c) BIC in the full sample.**"
   ]
  },
  {
   "cell_type": "code",
   "execution_count": 14,
   "id": "5053cc6a",
   "metadata": {},
   "outputs": [],
   "source": [
    "# Model comparison\n",
    "models = ['model1', 'model2', 'model3', 'model4']\n",
    "rmse = [np.sqrt(reg1.mse_resid), np.sqrt(reg2.mse_resid), np.sqrt(reg3.mse_resid), np.sqrt(reg4.mse_resid)]\n",
    "bic = [reg1.bic, reg2.bic, reg3.bic, reg4.bic]"
   ]
  },
  {
   "cell_type": "code",
   "execution_count": 15,
   "id": "2265d225",
   "metadata": {},
   "outputs": [
    {
     "data": {
      "text/html": [
       "<table style=\"text-align:center\"><tr><td colspan=\"5\" style=\"border-bottom: 1px solid black\"></td></tr><tr><td style=\"text-align:left\"></td><td colspan=\"4\"><em>Dependent variable:lnw</em></td></tr><tr><td style=\"text-align:left\"></td><tr><td style=\"text-align:left\"></td><td>(1)</td><td>(2)</td><td>(3)</td><td>(4)</td></tr><tr><td colspan=\"5\" style=\"border-bottom: 1px solid black\"></td></tr><tr><td style=\"text-align:left\">female</td><td>-0.174<sup>***</sup></td><td>-0.174<sup>***</sup></td><td>-0.181<sup>***</sup></td><td>-0.141<sup>***</sup></td></tr><tr><td style=\"text-align:left\"></td><td>(0.014)</td><td>(0.014)</td><td>(0.013)</td><td>(0.013)</td></tr><tr><td style=\"text-align:left\">age</td><td></td><td>0.013<sup>***</sup></td><td>0.073<sup>***</sup></td><td>0.050<sup>***</sup></td></tr><tr><td style=\"text-align:left\"></td><td></td><td>(0.001)</td><td>(0.004)</td><td>(0.004)</td></tr><tr><td style=\"text-align:left\">agesq</td><td></td><td></td><td>-0.001<sup>***</sup></td><td>-0.000<sup>***</sup></td></tr><tr><td style=\"text-align:left\"></td><td></td><td></td><td>(0.000)</td><td>(0.000)</td></tr><tr><td style=\"text-align:left\">grade92</td><td></td><td></td><td></td><td>0.102<sup>***</sup></td></tr><tr><td style=\"text-align:left\"></td><td></td><td></td><td></td><td>(0.004)</td></tr><tr><td style=\"text-align:left\">Constant</td><td>3.213<sup>***</sup></td><td>2.670<sup>***</sup></td><td>1.516<sup>***</sup></td><td>-2.431<sup>***</sup></td></tr><tr><td style=\"text-align:left\"></td><td>(0.012)</td><td>(0.024)</td><td>(0.076)</td><td>(0.161)</td></tr><td colspan=\"5\" style=\"border-bottom: 1px solid black\"></td></tr><tr><td style=\"text-align: left\">Observations</td><td>8,278</td><td>8,278</td><td>8,278</td><td>8,278</td></tr><tr><td style=\"text-align: left\">R<sup>2</sup></td><td>0.018</td><td>0.089</td><td>0.116</td><td>0.190</td></tr><tr><td style=\"text-align: left\">Adjusted R<sup>2</sup></td><td>0.018</td><td>0.089</td><td>0.116</td><td>0.190</td></tr><tr><td style=\"text-align: left\">Residual Std. Error</td><td>0.573 (df=8276)</td><td>0.552 (df=8275)</td><td>0.544 (df=8274)</td><td>0.520 (df=8273)</td></tr><tr><td style=\"text-align: left\">F Statistic</td><td>150.378<sup>***</sup> (df=1; 8276)</td><td>403.834<sup>***</sup> (df=2; 8275)</td><td>362.262<sup>***</sup> (df=3; 8274)</td><td>485.188<sup>***</sup> (df=4; 8273)</td></tr><tr><td colspan=\"5\" style=\"border-bottom: 1px solid black\"></td></tr><tr><td style=\"text-align: left\">Note:</td>\n",
       " <td colspan=\"4\" style=\"text-align: right\">\n",
       "  <sup>*</sup>p&lt;0.1;\n",
       "  <sup>**</sup>p&lt;0.05;\n",
       "  <sup>***</sup>p&lt;0.01\n",
       " </td></tr></table>"
      ],
      "text/plain": [
       "<stargazer.stargazer.Stargazer at 0x1d9d0a3fbe0>"
      ]
     },
     "execution_count": 15,
     "metadata": {},
     "output_type": "execute_result"
    }
   ],
   "source": [
    "stargazer = Stargazer([reg1, reg2, reg3, reg4])\n",
    "stargazer.covariate_order(\n",
    "    ['female', 'age', 'agesq', 'grade92', 'Intercept']\n",
    ")\n",
    "stargazer.rename_covariates({'Intercept': 'Constant'})\n",
    "stargazer"
   ]
  },
  {
   "cell_type": "code",
   "execution_count": 16,
   "id": "4fb72111",
   "metadata": {},
   "outputs": [],
   "source": [
    "k = KFold(n_splits=5, shuffle=False, random_state=None)\n",
    "from sklearn.metrics import mean_squared_error"
   ]
  },
  {
   "cell_type": "code",
   "execution_count": 17,
   "id": "9f3118ee",
   "metadata": {},
   "outputs": [],
   "source": [
    "def cv_reg(formula, data, kfold):\n",
    "    regression_list = []\n",
    "    predicts_on_test = []\n",
    "    rsquared = []\n",
    "    rmse_list = []\n",
    "\n",
    "    # Calculating OLS for each fold\n",
    "    for train_index, test_index in k.split(data):\n",
    "        # print(\"TRAIN:\", train_index, \"TEST:\", test_index)\n",
    "        data_train, data_test = data.iloc[train_index, :], data.iloc[test_index, :]\n",
    "        model = smf.ols(formula, data=data_train).fit()\n",
    "        regression_list += [model]\n",
    "        predicts_on_test += [model.predict(data_test)]\n",
    "        rsquared += [model.rsquared]\n",
    "        \n",
    "        a = data_train[formula.split('~')[0]]\n",
    "        b = model.predict()\n",
    "        rmse_list += [np.sqrt(mean_squared_error(a, b))]\n",
    "\n",
    "    return {\n",
    "        'regressions': regression_list,\n",
    "        'test_predict': predicts_on_test,\n",
    "        'r2': rsquared,\n",
    "        'rmse': rmse_list,\n",
    "    }\n",
    "\n",
    "\n",
    "def summarize_cv(cvlist, stat='rmse'):\n",
    "    result = pd.DataFrame(\n",
    "        {'Model' + str(x + 1): cvlist[x][stat] for x in range(len(cv_list))}\n",
    "    )\n",
    "    result['Resample'] = ['Fold' + str(x + 1) for x in range(len(cvlist[0]['rmse']))]\n",
    "    result = result.set_index('Resample')\n",
    "    result = pd.concat([result, pd.DataFrame(result.mean(), columns=['Average']).T])\n",
    "    return result"
   ]
  },
  {
   "cell_type": "code",
   "execution_count": 18,
   "id": "ca61f76c",
   "metadata": {},
   "outputs": [],
   "source": [
    "cv1 = cv_reg('lnw~female', df, k)\n",
    "cv2 = cv_reg('lnw~female+age', df, k)\n",
    "cv3 = cv_reg('lnw~female+age+agesq', df, k)\n",
    "cv4 = cv_reg('lnw~female+age+agesq+grade92', df, k)\n",
    "cv_list = [cv1, cv2, cv3, cv4]"
   ]
  },
  {
   "cell_type": "code",
   "execution_count": 19,
   "id": "96896975",
   "metadata": {},
   "outputs": [
    {
     "data": {
      "text/html": [
       "<div>\n",
       "<style scoped>\n",
       "    .dataframe tbody tr th:only-of-type {\n",
       "        vertical-align: middle;\n",
       "    }\n",
       "\n",
       "    .dataframe tbody tr th {\n",
       "        vertical-align: top;\n",
       "    }\n",
       "\n",
       "    .dataframe thead th {\n",
       "        text-align: right;\n",
       "    }\n",
       "</style>\n",
       "<table border=\"1\" class=\"dataframe\">\n",
       "  <thead>\n",
       "    <tr style=\"text-align: right;\">\n",
       "      <th></th>\n",
       "      <th>Model1</th>\n",
       "      <th>Model2</th>\n",
       "      <th>Model3</th>\n",
       "      <th>Model4</th>\n",
       "    </tr>\n",
       "  </thead>\n",
       "  <tbody>\n",
       "    <tr>\n",
       "      <th>Fold1</th>\n",
       "      <td>0.578529</td>\n",
       "      <td>0.557624</td>\n",
       "      <td>0.549325</td>\n",
       "      <td>0.526864</td>\n",
       "    </tr>\n",
       "    <tr>\n",
       "      <th>Fold2</th>\n",
       "      <td>0.574243</td>\n",
       "      <td>0.553590</td>\n",
       "      <td>0.545193</td>\n",
       "      <td>0.521988</td>\n",
       "    </tr>\n",
       "    <tr>\n",
       "      <th>Fold3</th>\n",
       "      <td>0.580424</td>\n",
       "      <td>0.560317</td>\n",
       "      <td>0.552638</td>\n",
       "      <td>0.528998</td>\n",
       "    </tr>\n",
       "    <tr>\n",
       "      <th>Fold4</th>\n",
       "      <td>0.570011</td>\n",
       "      <td>0.547188</td>\n",
       "      <td>0.538870</td>\n",
       "      <td>0.515884</td>\n",
       "    </tr>\n",
       "    <tr>\n",
       "      <th>Fold5</th>\n",
       "      <td>0.560472</td>\n",
       "      <td>0.539243</td>\n",
       "      <td>0.530459</td>\n",
       "      <td>0.506657</td>\n",
       "    </tr>\n",
       "    <tr>\n",
       "      <th>Average</th>\n",
       "      <td>0.572736</td>\n",
       "      <td>0.551592</td>\n",
       "      <td>0.543297</td>\n",
       "      <td>0.520078</td>\n",
       "    </tr>\n",
       "  </tbody>\n",
       "</table>\n",
       "</div>"
      ],
      "text/plain": [
       "           Model1    Model2    Model3    Model4\n",
       "Fold1    0.578529  0.557624  0.549325  0.526864\n",
       "Fold2    0.574243  0.553590  0.545193  0.521988\n",
       "Fold3    0.580424  0.560317  0.552638  0.528998\n",
       "Fold4    0.570011  0.547188  0.538870  0.515884\n",
       "Fold5    0.560472  0.539243  0.530459  0.506657\n",
       "Average  0.572736  0.551592  0.543297  0.520078"
      ]
     },
     "execution_count": 19,
     "metadata": {},
     "output_type": "execute_result"
    }
   ],
   "source": [
    "summarize_cv(cv_list)"
   ]
  },
  {
   "cell_type": "code",
   "execution_count": 20,
   "id": "bd726082",
   "metadata": {},
   "outputs": [
    {
     "name": "stdout",
     "output_type": "stream",
     "text": [
      "From left to right the model gradually becomes more complex.\n",
      "RMSE in the full sample: [0.5728775845093979, 0.5517922142669943, 0.5435332611433404, 0.5203428999831657]\n",
      "BIC in the full sample:  [14284.918959449797, 13672.081697809106, 13430.427402708092, 12716.558843990508]\n"
     ]
    }
   ],
   "source": [
    "# compare with RMSE and BIC in the full sample\n",
    "print('From left to right the model gradually becomes more complex.')\n",
    "print('RMSE in the full sample:', rmse)\n",
    "print('BIC in the full sample: ', bic)\n"
   ]
  },
  {
   "cell_type": "markdown",
   "id": "3c3f670c",
   "metadata": {},
   "source": [
    "**Task 4: Discuss the relationship between model complexity and performance. You may use visual aids.**"
   ]
  },
  {
   "cell_type": "code",
   "execution_count": 21,
   "id": "70f75552",
   "metadata": {},
   "outputs": [
    {
     "data": {
      "image/png": "[encoded data removed]",
      "text/plain": [
       "<Figure size 432x288 with 1 Axes>"
      ]
     },
     "metadata": {
      "needs_background": "light"
     },
     "output_type": "display_data"
    }
   ],
   "source": [
    "# RMSE in the full sample\n",
    "plt.bar(models, rmse)\n",
    "plt.xlabel('Linear Regression Models')\n",
    "plt.ylabel('RMSE')\n",
    "plt.ylim([0.5, 0.6])\n",
    "plt.show()"
   ]
  },
  {
   "cell_type": "code",
   "execution_count": 22,
   "id": "6e7498f1",
   "metadata": {},
   "outputs": [
    {
     "data": {
      "image/png": "[encoded data removed]",
      "text/plain": [
       "<Figure size 432x288 with 1 Axes>"
      ]
     },
     "metadata": {
      "needs_background": "light"
     },
     "output_type": "display_data"
    }
   ],
   "source": [
    "# RMSE with RMSE\n",
    "plt.bar(models, [np.mean(cv1['rmse']), np.mean(cv2['rmse']), np.mean(cv3['rmse']), np.mean(cv4['rmse'])])\n",
    "plt.xlabel('Linear Regression Models')\n",
    "plt.ylabel('Cross-Validated RMSE')\n",
    "plt.ylim([0.5, 0.6])\n",
    "plt.show()"
   ]
  },
  {
   "cell_type": "code",
   "execution_count": 23,
   "id": "eab521e4",
   "metadata": {},
   "outputs": [
    {
     "data": {
      "image/png": "[encoded data removed]",
      "text/plain": [
       "<Figure size 432x288 with 1 Axes>"
      ]
     },
     "metadata": {
      "needs_background": "light"
     },
     "output_type": "display_data"
    }
   ],
   "source": [
    "# BIC in the full sample\n",
    "plt.bar(models, bic)\n",
    "plt.xlabel('Linear Regression Models')\n",
    "plt.ylabel('BIC')\n",
    "plt.ylim([12000, 15000])\n",
    "plt.show()"
   ]
  }
 ],
 "metadata": {
  "kernelspec": {
   "display_name": "Python 3",
   "language": "python",
   "name": "python3"
  },
  "language_info": {
   "codemirror_mode": {
    "name": "ipython",
    "version": 3
   },
   "file_extension": ".py",
   "mimetype": "text/x-python",
   "name": "python",
   "nbconvert_exporter": "python",
   "pygments_lexer": "ipython3",
   "version": "3.8.8"
  }
 },
 "nbformat": 4,
 "nbformat_minor": 5
}
