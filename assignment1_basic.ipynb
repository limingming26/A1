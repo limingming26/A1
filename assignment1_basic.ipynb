{
 "cells": [
  {
   "cell_type": "code",
   "execution_count": 1,
   "id": "05f9c895",
   "metadata": {},
   "outputs": [],
   "source": [
    "import warnings\n",
    "import pandas as pd\n",
    "import numpy as np\n",
    "import seaborn as sns\n",
    "import matplotlib.pyplot as plt\n",
    "import statsmodels.formula.api as smf\n",
    "from sklearn.linear_model import LinearRegression\n",
    "from sklearn.model_selection import cross_val_score\n",
    "\n",
    "\n",
    "warnings.filterwarnings(\"ignore\")"
   ]
  },
  {
   "cell_type": "code",
   "execution_count": 2,
   "id": "10acd473",
   "metadata": {},
   "outputs": [],
   "source": [
    "df = pd.read_csv('morg-2014-emp.csv')"
   ]
  },
  {
   "cell_type": "code",
   "execution_count": 457,
   "id": "a16e9566",
   "metadata": {},
   "outputs": [
    {
     "name": "stdout",
     "output_type": "stream",
     "text": [
      "<class 'pandas.core.frame.DataFrame'>\n",
      "RangeIndex: 149316 entries, 0 to 149315\n",
      "Data columns (total 23 columns):\n",
      " #   Column      Non-Null Count   Dtype  \n",
      "---  ------      --------------   -----  \n",
      " 0   Unnamed: 0  149316 non-null  int64  \n",
      " 1   hhid        149316 non-null  int64  \n",
      " 2   intmonth    149316 non-null  object \n",
      " 3   stfips      149316 non-null  object \n",
      " 4   weight      149316 non-null  float64\n",
      " 5   earnwke     149316 non-null  float64\n",
      " 6   uhours      149316 non-null  int64  \n",
      " 7   grade92     149316 non-null  int64  \n",
      " 8   race        149316 non-null  int64  \n",
      " 9   ethnic      20071 non-null   float64\n",
      " 10  age         149316 non-null  int64  \n",
      " 11  sex         149316 non-null  int64  \n",
      " 12  marital     149316 non-null  int64  \n",
      " 13  ownchild    149316 non-null  int64  \n",
      " 14  chldpres    149316 non-null  int64  \n",
      " 15  prcitshp    149316 non-null  object \n",
      " 16  state       149316 non-null  object \n",
      " 17  ind02       149316 non-null  object \n",
      " 18  occ2012     149316 non-null  int64  \n",
      " 19  class       149316 non-null  object \n",
      " 20  unionmme    149316 non-null  object \n",
      " 21  unioncov    132220 non-null  object \n",
      " 22  lfsr94      149316 non-null  object \n",
      "dtypes: float64(3), int64(11), object(9)\n",
      "memory usage: 26.2+ MB\n"
     ]
    }
   ],
   "source": [
    "df.info()  # two columns(ethnic and unioncov) missing data"
   ]
  },
  {
   "cell_type": "code",
   "execution_count": 3,
   "id": "38c348c5",
   "metadata": {},
   "outputs": [],
   "source": [
    "# select occupations: all types of teachers, occ2012 from 2200 to 2340\n",
    "df.loc[((df['occ2012'] >= 2200) & (df['occ2012'] <= 2340)), 'sample'] = 1\n",
    "# Extract the data information of the selected occupation\n",
    "df = df.loc[df['sample'] == 1, :].reset_index(drop=True)"
   ]
  },
  {
   "cell_type": "code",
   "execution_count": 4,
   "id": "4b66b37b",
   "metadata": {},
   "outputs": [
    {
     "data": {
      "text/plain": [
       "8278"
      ]
     },
     "execution_count": 4,
     "metadata": {},
     "output_type": "execute_result"
    }
   ],
   "source": [
    "len(df)  # Total number of teachers"
   ]
  },
  {
   "cell_type": "code",
   "execution_count": 8,
   "id": "737e9116",
   "metadata": {},
   "outputs": [],
   "source": [
    "# target value of this task\n",
    "df['earn_per_hour'] = df['earnwke'] / df['uhours']"
   ]
  },
  {
   "cell_type": "code",
   "execution_count": 10,
   "id": "0dab1029",
   "metadata": {},
   "outputs": [
    {
     "data": {
      "text/html": [
       "<div>\n",
       "<style scoped>\n",
       "    .dataframe tbody tr th:only-of-type {\n",
       "        vertical-align: middle;\n",
       "    }\n",
       "\n",
       "    .dataframe tbody tr th {\n",
       "        vertical-align: top;\n",
       "    }\n",
       "\n",
       "    .dataframe thead th {\n",
       "        text-align: right;\n",
       "    }\n",
       "</style>\n",
       "<table border=\"1\" class=\"dataframe\">\n",
       "  <thead>\n",
       "    <tr style=\"text-align: right;\">\n",
       "      <th></th>\n",
       "      <th>earnwke</th>\n",
       "      <th>uhours</th>\n",
       "      <th>earn_per_hour</th>\n",
       "    </tr>\n",
       "  </thead>\n",
       "  <tbody>\n",
       "    <tr>\n",
       "      <th>count</th>\n",
       "      <td>8278.000000</td>\n",
       "      <td>8278.000000</td>\n",
       "      <td>8278.000000</td>\n",
       "    </tr>\n",
       "    <tr>\n",
       "      <th>mean</th>\n",
       "      <td>993.516006</td>\n",
       "      <td>39.145567</td>\n",
       "      <td>25.605661</td>\n",
       "    </tr>\n",
       "    <tr>\n",
       "      <th>std</th>\n",
       "      <td>586.851367</td>\n",
       "      <td>10.964558</td>\n",
       "      <td>20.748074</td>\n",
       "    </tr>\n",
       "    <tr>\n",
       "      <th>min</th>\n",
       "      <td>0.230000</td>\n",
       "      <td>1.000000</td>\n",
       "      <td>0.004107</td>\n",
       "    </tr>\n",
       "    <tr>\n",
       "      <th>25%</th>\n",
       "      <td>583.232500</td>\n",
       "      <td>40.000000</td>\n",
       "      <td>15.734182</td>\n",
       "    </tr>\n",
       "    <tr>\n",
       "      <th>50%</th>\n",
       "      <td>923.000000</td>\n",
       "      <td>40.000000</td>\n",
       "      <td>22.500000</td>\n",
       "    </tr>\n",
       "    <tr>\n",
       "      <th>75%</th>\n",
       "      <td>1250.000000</td>\n",
       "      <td>40.000000</td>\n",
       "      <td>31.110833</td>\n",
       "    </tr>\n",
       "    <tr>\n",
       "      <th>max</th>\n",
       "      <td>2884.610000</td>\n",
       "      <td>99.000000</td>\n",
       "      <td>1076.920000</td>\n",
       "    </tr>\n",
       "  </tbody>\n",
       "</table>\n",
       "</div>"
      ],
      "text/plain": [
       "           earnwke       uhours  earn_per_hour\n",
       "count  8278.000000  8278.000000    8278.000000\n",
       "mean    993.516006    39.145567      25.605661\n",
       "std     586.851367    10.964558      20.748074\n",
       "min       0.230000     1.000000       0.004107\n",
       "25%     583.232500    40.000000      15.734182\n",
       "50%     923.000000    40.000000      22.500000\n",
       "75%    1250.000000    40.000000      31.110833\n",
       "max    2884.610000    99.000000    1076.920000"
      ]
     },
     "execution_count": 10,
     "metadata": {},
     "output_type": "execute_result"
    }
   ],
   "source": [
    "# distribution of earning\n",
    "df.loc[:, ['earnwke', 'uhours', 'earn_per_hour']].describe()"
   ]
  },
  {
   "cell_type": "code",
   "execution_count": 17,
   "id": "41c86155",
   "metadata": {},
   "outputs": [],
   "source": [
    "df['sex'] = (df['sex'] == 2).astype(int)  # 1: male  0: female\n",
    "df['agepower'] = np.square(df['age'])"
   ]
  },
  {
   "cell_type": "code",
   "execution_count": 16,
   "id": "566b8d46",
   "metadata": {},
   "outputs": [
    {
     "data": {
      "text/plain": [
       "<AxesSubplot:xlabel='sex', ylabel='count'>"
      ]
     },
     "execution_count": 16,
     "metadata": {},
     "output_type": "execute_result"
    },
    {
     "data": {
      "image/png": "[encoded data removed]",
      "text/plain": [
       "<Figure size 432x288 with 1 Axes>"
      ]
     },
     "metadata": {
      "needs_background": "light"
     },
     "output_type": "display_data"
    }
   ],
   "source": [
    "# sex count\n",
    "sns.countplot(x='sex', data=df, palette='BuPu_r')"
   ]
  },
  {
   "cell_type": "code",
   "execution_count": 19,
   "id": "6d7aaf44",
   "metadata": {},
   "outputs": [
    {
     "data": {
      "text/html": [
       "<table class=\"simpletable\">\n",
       "<caption>OLS Regression Results</caption>\n",
       "<tr>\n",
       "  <th>Dep. Variable:</th>      <td>earn_per_hour</td>  <th>  R-squared:         </th> <td>   0.009</td> \n",
       "</tr>\n",
       "<tr>\n",
       "  <th>Model:</th>                   <td>OLS</td>       <th>  Adj. R-squared:    </th> <td>   0.009</td> \n",
       "</tr>\n",
       "<tr>\n",
       "  <th>Method:</th>             <td>Least Squares</td>  <th>  F-statistic:       </th> <td>   75.37</td> \n",
       "</tr>\n",
       "<tr>\n",
       "  <th>Date:</th>             <td>Fri, 01 Oct 2021</td> <th>  Prob (F-statistic):</th> <td>4.66e-18</td> \n",
       "</tr>\n",
       "<tr>\n",
       "  <th>Time:</th>                 <td>21:55:23</td>     <th>  Log-Likelihood:    </th> <td> -36811.</td> \n",
       "</tr>\n",
       "<tr>\n",
       "  <th>No. Observations:</th>      <td>  8278</td>      <th>  AIC:               </th> <td>7.363e+04</td>\n",
       "</tr>\n",
       "<tr>\n",
       "  <th>Df Residuals:</th>          <td>  8276</td>      <th>  BIC:               </th> <td>7.364e+04</td>\n",
       "</tr>\n",
       "<tr>\n",
       "  <th>Df Model:</th>              <td>     1</td>      <th>                     </th>     <td> </td>    \n",
       "</tr>\n",
       "<tr>\n",
       "  <th>Covariance Type:</th>      <td>nonrobust</td>    <th>                     </th>     <td> </td>    \n",
       "</tr>\n",
       "</table>\n",
       "<table class=\"simpletable\">\n",
       "<tr>\n",
       "      <td></td>         <th>coef</th>     <th>std err</th>      <th>t</th>      <th>P>|t|</th>  <th>[0.025</th>    <th>0.975]</th>  \n",
       "</tr>\n",
       "<tr>\n",
       "  <th>Intercept</th> <td>   28.8504</td> <td>    0.437</td> <td>   65.973</td> <td> 0.000</td> <td>   27.993</td> <td>   29.708</td>\n",
       "</tr>\n",
       "<tr>\n",
       "  <th>sex</th>       <td>   -4.4419</td> <td>    0.512</td> <td>   -8.681</td> <td> 0.000</td> <td>   -5.445</td> <td>   -3.439</td>\n",
       "</tr>\n",
       "</table>\n",
       "<table class=\"simpletable\">\n",
       "<tr>\n",
       "  <th>Omnibus:</th>       <td>19021.250</td> <th>  Durbin-Watson:     </th>   <td>   1.944</td>   \n",
       "</tr>\n",
       "<tr>\n",
       "  <th>Prob(Omnibus):</th>  <td> 0.000</td>   <th>  Jarque-Bera (JB):  </th> <td>310065758.188</td>\n",
       "</tr>\n",
       "<tr>\n",
       "  <th>Skew:</th>           <td>21.848</td>   <th>  Prob(JB):          </th>   <td>    0.00</td>   \n",
       "</tr>\n",
       "<tr>\n",
       "  <th>Kurtosis:</th>       <td>950.127</td>  <th>  Cond. No.          </th>   <td>    3.62</td>   \n",
       "</tr>\n",
       "</table><br/><br/>Notes:<br/>[1] Standard Errors assume that the covariance matrix of the errors is correctly specified."
      ],
      "text/plain": [
       "<class 'statsmodels.iolib.summary.Summary'>\n",
       "\"\"\"\n",
       "                            OLS Regression Results                            \n",
       "==============================================================================\n",
       "Dep. Variable:          earn_per_hour   R-squared:                       0.009\n",
       "Model:                            OLS   Adj. R-squared:                  0.009\n",
       "Method:                 Least Squares   F-statistic:                     75.37\n",
       "Date:                Fri, 01 Oct 2021   Prob (F-statistic):           4.66e-18\n",
       "Time:                        21:55:23   Log-Likelihood:                -36811.\n",
       "No. Observations:                8278   AIC:                         7.363e+04\n",
       "Df Residuals:                    8276   BIC:                         7.364e+04\n",
       "Df Model:                           1                                         \n",
       "Covariance Type:            nonrobust                                         \n",
       "==============================================================================\n",
       "                 coef    std err          t      P>|t|      [0.025      0.975]\n",
       "------------------------------------------------------------------------------\n",
       "Intercept     28.8504      0.437     65.973      0.000      27.993      29.708\n",
       "sex           -4.4419      0.512     -8.681      0.000      -5.445      -3.439\n",
       "==============================================================================\n",
       "Omnibus:                    19021.250   Durbin-Watson:                   1.944\n",
       "Prob(Omnibus):                  0.000   Jarque-Bera (JB):        310065758.188\n",
       "Skew:                          21.848   Prob(JB):                         0.00\n",
       "Kurtosis:                     950.127   Cond. No.                         3.62\n",
       "==============================================================================\n",
       "\n",
       "Notes:\n",
       "[1] Standard Errors assume that the covariance matrix of the errors is correctly specified.\n",
       "\"\"\""
      ]
     },
     "execution_count": 19,
     "metadata": {},
     "output_type": "execute_result"
    }
   ],
   "source": [
    "# linear regression model one\n",
    "reg1 = smf.ols(formula='earn_per_hour~sex', data=df).fit()\n",
    "reg1.summary()"
   ]
  },
  {
   "cell_type": "code",
   "execution_count": 18,
   "id": "7df3175d",
   "metadata": {},
   "outputs": [
    {
     "data": {
      "text/html": [
       "<table class=\"simpletable\">\n",
       "<caption>OLS Regression Results</caption>\n",
       "<tr>\n",
       "  <th>Dep. Variable:</th>      <td>earn_per_hour</td>  <th>  R-squared:         </th> <td>   0.044</td> \n",
       "</tr>\n",
       "<tr>\n",
       "  <th>Model:</th>                   <td>OLS</td>       <th>  Adj. R-squared:    </th> <td>   0.044</td> \n",
       "</tr>\n",
       "<tr>\n",
       "  <th>Method:</th>             <td>Least Squares</td>  <th>  F-statistic:       </th> <td>   189.5</td> \n",
       "</tr>\n",
       "<tr>\n",
       "  <th>Date:</th>             <td>Fri, 01 Oct 2021</td> <th>  Prob (F-statistic):</th> <td>3.31e-81</td> \n",
       "</tr>\n",
       "<tr>\n",
       "  <th>Time:</th>                 <td>21:55:20</td>     <th>  Log-Likelihood:    </th> <td> -36663.</td> \n",
       "</tr>\n",
       "<tr>\n",
       "  <th>No. Observations:</th>      <td>  8278</td>      <th>  AIC:               </th> <td>7.333e+04</td>\n",
       "</tr>\n",
       "<tr>\n",
       "  <th>Df Residuals:</th>          <td>  8275</td>      <th>  BIC:               </th> <td>7.335e+04</td>\n",
       "</tr>\n",
       "<tr>\n",
       "  <th>Df Model:</th>              <td>     2</td>      <th>                     </th>     <td> </td>    \n",
       "</tr>\n",
       "<tr>\n",
       "  <th>Covariance Type:</th>      <td>nonrobust</td>    <th>                     </th>     <td> </td>    \n",
       "</tr>\n",
       "</table>\n",
       "<table class=\"simpletable\">\n",
       "<tr>\n",
       "      <td></td>         <th>coef</th>     <th>std err</th>      <th>t</th>      <th>P>|t|</th>  <th>[0.025</th>    <th>0.975]</th>  \n",
       "</tr>\n",
       "<tr>\n",
       "  <th>Intercept</th> <td>   15.2233</td> <td>    0.895</td> <td>   17.003</td> <td> 0.000</td> <td>   13.468</td> <td>   16.978</td>\n",
       "</tr>\n",
       "<tr>\n",
       "  <th>sex</th>       <td>   -4.4524</td> <td>    0.503</td> <td>   -8.858</td> <td> 0.000</td> <td>   -5.438</td> <td>   -3.467</td>\n",
       "</tr>\n",
       "<tr>\n",
       "  <th>age</th>       <td>    0.3268</td> <td>    0.019</td> <td>   17.348</td> <td> 0.000</td> <td>    0.290</td> <td>    0.364</td>\n",
       "</tr>\n",
       "</table>\n",
       "<table class=\"simpletable\">\n",
       "<tr>\n",
       "  <th>Omnibus:</th>       <td>19384.489</td> <th>  Durbin-Watson:     </th>   <td>   1.949</td>   \n",
       "</tr>\n",
       "<tr>\n",
       "  <th>Prob(Omnibus):</th>  <td> 0.000</td>   <th>  Jarque-Bera (JB):  </th> <td>353980923.932</td>\n",
       "</tr>\n",
       "<tr>\n",
       "  <th>Skew:</th>           <td>22.874</td>   <th>  Prob(JB):          </th>   <td>    0.00</td>   \n",
       "</tr>\n",
       "<tr>\n",
       "  <th>Kurtosis:</th>      <td>1015.021</td>  <th>  Cond. No.          </th>   <td>    180.</td>   \n",
       "</tr>\n",
       "</table><br/><br/>Notes:<br/>[1] Standard Errors assume that the covariance matrix of the errors is correctly specified."
      ],
      "text/plain": [
       "<class 'statsmodels.iolib.summary.Summary'>\n",
       "\"\"\"\n",
       "                            OLS Regression Results                            \n",
       "==============================================================================\n",
       "Dep. Variable:          earn_per_hour   R-squared:                       0.044\n",
       "Model:                            OLS   Adj. R-squared:                  0.044\n",
       "Method:                 Least Squares   F-statistic:                     189.5\n",
       "Date:                Fri, 01 Oct 2021   Prob (F-statistic):           3.31e-81\n",
       "Time:                        21:55:20   Log-Likelihood:                -36663.\n",
       "No. Observations:                8278   AIC:                         7.333e+04\n",
       "Df Residuals:                    8275   BIC:                         7.335e+04\n",
       "Df Model:                           2                                         \n",
       "Covariance Type:            nonrobust                                         \n",
       "==============================================================================\n",
       "                 coef    std err          t      P>|t|      [0.025      0.975]\n",
       "------------------------------------------------------------------------------\n",
       "Intercept     15.2233      0.895     17.003      0.000      13.468      16.978\n",
       "sex           -4.4524      0.503     -8.858      0.000      -5.438      -3.467\n",
       "age            0.3268      0.019     17.348      0.000       0.290       0.364\n",
       "==============================================================================\n",
       "Omnibus:                    19384.489   Durbin-Watson:                   1.949\n",
       "Prob(Omnibus):                  0.000   Jarque-Bera (JB):        353980923.932\n",
       "Skew:                          22.874   Prob(JB):                         0.00\n",
       "Kurtosis:                    1015.021   Cond. No.                         180.\n",
       "==============================================================================\n",
       "\n",
       "Notes:\n",
       "[1] Standard Errors assume that the covariance matrix of the errors is correctly specified.\n",
       "\"\"\""
      ]
     },
     "execution_count": 18,
     "metadata": {},
     "output_type": "execute_result"
    }
   ],
   "source": [
    "# linear regression model two\n",
    "reg2 = smf.ols(formula='earn_per_hour~sex+age', data=df).fit()\n",
    "reg2.summary()"
   ]
  },
  {
   "cell_type": "code",
   "execution_count": 22,
   "id": "c44be0b1",
   "metadata": {},
   "outputs": [
    {
     "data": {
      "text/html": [
       "<table class=\"simpletable\">\n",
       "<caption>OLS Regression Results</caption>\n",
       "<tr>\n",
       "  <th>Dep. Variable:</th>      <td>earn_per_hour</td>  <th>  R-squared:         </th> <td>   0.051</td> \n",
       "</tr>\n",
       "<tr>\n",
       "  <th>Model:</th>                   <td>OLS</td>       <th>  Adj. R-squared:    </th> <td>   0.051</td> \n",
       "</tr>\n",
       "<tr>\n",
       "  <th>Method:</th>             <td>Least Squares</td>  <th>  F-statistic:       </th> <td>   149.1</td> \n",
       "</tr>\n",
       "<tr>\n",
       "  <th>Date:</th>             <td>Fri, 01 Oct 2021</td> <th>  Prob (F-statistic):</th> <td>4.30e-94</td> \n",
       "</tr>\n",
       "<tr>\n",
       "  <th>Time:</th>                 <td>21:55:39</td>     <th>  Log-Likelihood:    </th> <td> -36630.</td> \n",
       "</tr>\n",
       "<tr>\n",
       "  <th>No. Observations:</th>      <td>  8278</td>      <th>  AIC:               </th> <td>7.327e+04</td>\n",
       "</tr>\n",
       "<tr>\n",
       "  <th>Df Residuals:</th>          <td>  8274</td>      <th>  BIC:               </th> <td>7.330e+04</td>\n",
       "</tr>\n",
       "<tr>\n",
       "  <th>Df Model:</th>              <td>     3</td>      <th>                     </th>     <td> </td>    \n",
       "</tr>\n",
       "<tr>\n",
       "  <th>Covariance Type:</th>      <td>nonrobust</td>    <th>                     </th>     <td> </td>    \n",
       "</tr>\n",
       "</table>\n",
       "<table class=\"simpletable\">\n",
       "<tr>\n",
       "      <td></td>         <th>coef</th>     <th>std err</th>      <th>t</th>      <th>P>|t|</th>  <th>[0.025</th>    <th>0.975]</th>  \n",
       "</tr>\n",
       "<tr>\n",
       "  <th>Intercept</th> <td>   -6.5110</td> <td>    2.835</td> <td>   -2.297</td> <td> 0.022</td> <td>  -12.068</td> <td>   -0.954</td>\n",
       "</tr>\n",
       "<tr>\n",
       "  <th>sex</th>       <td>   -4.5784</td> <td>    0.501</td> <td>   -9.140</td> <td> 0.000</td> <td>   -5.560</td> <td>   -3.596</td>\n",
       "</tr>\n",
       "<tr>\n",
       "  <th>age</th>       <td>    1.4488</td> <td>    0.140</td> <td>   10.336</td> <td> 0.000</td> <td>    1.174</td> <td>    1.724</td>\n",
       "</tr>\n",
       "<tr>\n",
       "  <th>agepower</th>  <td>   -0.0133</td> <td>    0.002</td> <td>   -8.078</td> <td> 0.000</td> <td>   -0.017</td> <td>   -0.010</td>\n",
       "</tr>\n",
       "</table>\n",
       "<table class=\"simpletable\">\n",
       "<tr>\n",
       "  <th>Omnibus:</th>       <td>19450.684</td> <th>  Durbin-Watson:     </th>   <td>   1.946</td>   \n",
       "</tr>\n",
       "<tr>\n",
       "  <th>Prob(Omnibus):</th>  <td> 0.000</td>   <th>  Jarque-Bera (JB):  </th> <td>361318642.525</td>\n",
       "</tr>\n",
       "<tr>\n",
       "  <th>Skew:</th>           <td>23.067</td>   <th>  Prob(JB):          </th>   <td>    0.00</td>   \n",
       "</tr>\n",
       "<tr>\n",
       "  <th>Kurtosis:</th>      <td>1025.460</td>  <th>  Cond. No.          </th>   <td>2.73e+04</td>   \n",
       "</tr>\n",
       "</table><br/><br/>Notes:<br/>[1] Standard Errors assume that the covariance matrix of the errors is correctly specified.<br/>[2] The condition number is large, 2.73e+04. This might indicate that there are<br/>strong multicollinearity or other numerical problems."
      ],
      "text/plain": [
       "<class 'statsmodels.iolib.summary.Summary'>\n",
       "\"\"\"\n",
       "                            OLS Regression Results                            \n",
       "==============================================================================\n",
       "Dep. Variable:          earn_per_hour   R-squared:                       0.051\n",
       "Model:                            OLS   Adj. R-squared:                  0.051\n",
       "Method:                 Least Squares   F-statistic:                     149.1\n",
       "Date:                Fri, 01 Oct 2021   Prob (F-statistic):           4.30e-94\n",
       "Time:                        21:55:39   Log-Likelihood:                -36630.\n",
       "No. Observations:                8278   AIC:                         7.327e+04\n",
       "Df Residuals:                    8274   BIC:                         7.330e+04\n",
       "Df Model:                           3                                         \n",
       "Covariance Type:            nonrobust                                         \n",
       "==============================================================================\n",
       "                 coef    std err          t      P>|t|      [0.025      0.975]\n",
       "------------------------------------------------------------------------------\n",
       "Intercept     -6.5110      2.835     -2.297      0.022     -12.068      -0.954\n",
       "sex           -4.5784      0.501     -9.140      0.000      -5.560      -3.596\n",
       "age            1.4488      0.140     10.336      0.000       1.174       1.724\n",
       "agepower      -0.0133      0.002     -8.078      0.000      -0.017      -0.010\n",
       "==============================================================================\n",
       "Omnibus:                    19450.684   Durbin-Watson:                   1.946\n",
       "Prob(Omnibus):                  0.000   Jarque-Bera (JB):        361318642.525\n",
       "Skew:                          23.067   Prob(JB):                         0.00\n",
       "Kurtosis:                    1025.460   Cond. No.                     2.73e+04\n",
       "==============================================================================\n",
       "\n",
       "Notes:\n",
       "[1] Standard Errors assume that the covariance matrix of the errors is correctly specified.\n",
       "[2] The condition number is large, 2.73e+04. This might indicate that there are\n",
       "strong multicollinearity or other numerical problems.\n",
       "\"\"\""
      ]
     },
     "execution_count": 22,
     "metadata": {},
     "output_type": "execute_result"
    }
   ],
   "source": [
    "# linear regression model three\n",
    "reg3 = smf.ols(formula='earn_per_hour~sex+age+agepower', data=df).fit()\n",
    "reg3.summary()"
   ]
  },
  {
   "cell_type": "code",
   "execution_count": 23,
   "id": "022405e9",
   "metadata": {},
   "outputs": [
    {
     "data": {
      "text/html": [
       "<table class=\"simpletable\">\n",
       "<caption>OLS Regression Results</caption>\n",
       "<tr>\n",
       "  <th>Dep. Variable:</th>      <td>earn_per_hour</td>  <th>  R-squared:         </th> <td>   0.078</td> \n",
       "</tr>\n",
       "<tr>\n",
       "  <th>Model:</th>                   <td>OLS</td>       <th>  Adj. R-squared:    </th> <td>   0.077</td> \n",
       "</tr>\n",
       "<tr>\n",
       "  <th>Method:</th>             <td>Least Squares</td>  <th>  F-statistic:       </th> <td>   174.8</td> \n",
       "</tr>\n",
       "<tr>\n",
       "  <th>Date:</th>             <td>Fri, 01 Oct 2021</td> <th>  Prob (F-statistic):</th> <td>5.67e-144</td>\n",
       "</tr>\n",
       "<tr>\n",
       "  <th>Time:</th>                 <td>21:55:41</td>     <th>  Log-Likelihood:    </th> <td> -36512.</td> \n",
       "</tr>\n",
       "<tr>\n",
       "  <th>No. Observations:</th>      <td>  8278</td>      <th>  AIC:               </th> <td>7.303e+04</td>\n",
       "</tr>\n",
       "<tr>\n",
       "  <th>Df Residuals:</th>          <td>  8273</td>      <th>  BIC:               </th> <td>7.307e+04</td>\n",
       "</tr>\n",
       "<tr>\n",
       "  <th>Df Model:</th>              <td>     4</td>      <th>                     </th>     <td> </td>    \n",
       "</tr>\n",
       "<tr>\n",
       "  <th>Covariance Type:</th>      <td>nonrobust</td>    <th>                     </th>     <td> </td>    \n",
       "</tr>\n",
       "</table>\n",
       "<table class=\"simpletable\">\n",
       "<tr>\n",
       "      <td></td>         <th>coef</th>     <th>std err</th>      <th>t</th>      <th>P>|t|</th>  <th>[0.025</th>    <th>0.975]</th>  \n",
       "</tr>\n",
       "<tr>\n",
       "  <th>Intercept</th> <td>  -91.5823</td> <td>    6.171</td> <td>  -14.841</td> <td> 0.000</td> <td> -103.678</td> <td>  -79.486</td>\n",
       "</tr>\n",
       "<tr>\n",
       "  <th>sex</th>       <td>   -3.7051</td> <td>    0.497</td> <td>   -7.454</td> <td> 0.000</td> <td>   -4.680</td> <td>   -2.731</td>\n",
       "</tr>\n",
       "<tr>\n",
       "  <th>age</th>       <td>    0.9527</td> <td>    0.142</td> <td>    6.716</td> <td> 0.000</td> <td>    0.675</td> <td>    1.231</td>\n",
       "</tr>\n",
       "<tr>\n",
       "  <th>agepower</th>  <td>   -0.0081</td> <td>    0.002</td> <td>   -4.922</td> <td> 0.000</td> <td>   -0.011</td> <td>   -0.005</td>\n",
       "</tr>\n",
       "<tr>\n",
       "  <th>grade92</th>   <td>    2.2075</td> <td>    0.143</td> <td>   15.463</td> <td> 0.000</td> <td>    1.928</td> <td>    2.487</td>\n",
       "</tr>\n",
       "</table>\n",
       "<table class=\"simpletable\">\n",
       "<tr>\n",
       "  <th>Omnibus:</th>       <td>19761.897</td> <th>  Durbin-Watson:     </th>   <td>   1.944</td>   \n",
       "</tr>\n",
       "<tr>\n",
       "  <th>Prob(Omnibus):</th>  <td> 0.000</td>   <th>  Jarque-Bera (JB):  </th> <td>401831810.177</td>\n",
       "</tr>\n",
       "<tr>\n",
       "  <th>Skew:</th>           <td>23.985</td>   <th>  Prob(JB):          </th>   <td>    0.00</td>   \n",
       "</tr>\n",
       "<tr>\n",
       "  <th>Kurtosis:</th>      <td>1081.290</td>  <th>  Cond. No.          </th>   <td>6.02e+04</td>   \n",
       "</tr>\n",
       "</table><br/><br/>Notes:<br/>[1] Standard Errors assume that the covariance matrix of the errors is correctly specified.<br/>[2] The condition number is large, 6.02e+04. This might indicate that there are<br/>strong multicollinearity or other numerical problems."
      ],
      "text/plain": [
       "<class 'statsmodels.iolib.summary.Summary'>\n",
       "\"\"\"\n",
       "                            OLS Regression Results                            \n",
       "==============================================================================\n",
       "Dep. Variable:          earn_per_hour   R-squared:                       0.078\n",
       "Model:                            OLS   Adj. R-squared:                  0.077\n",
       "Method:                 Least Squares   F-statistic:                     174.8\n",
       "Date:                Fri, 01 Oct 2021   Prob (F-statistic):          5.67e-144\n",
       "Time:                        21:55:41   Log-Likelihood:                -36512.\n",
       "No. Observations:                8278   AIC:                         7.303e+04\n",
       "Df Residuals:                    8273   BIC:                         7.307e+04\n",
       "Df Model:                           4                                         \n",
       "Covariance Type:            nonrobust                                         \n",
       "==============================================================================\n",
       "                 coef    std err          t      P>|t|      [0.025      0.975]\n",
       "------------------------------------------------------------------------------\n",
       "Intercept    -91.5823      6.171    -14.841      0.000    -103.678     -79.486\n",
       "sex           -3.7051      0.497     -7.454      0.000      -4.680      -2.731\n",
       "age            0.9527      0.142      6.716      0.000       0.675       1.231\n",
       "agepower      -0.0081      0.002     -4.922      0.000      -0.011      -0.005\n",
       "grade92        2.2075      0.143     15.463      0.000       1.928       2.487\n",
       "==============================================================================\n",
       "Omnibus:                    19761.897   Durbin-Watson:                   1.944\n",
       "Prob(Omnibus):                  0.000   Jarque-Bera (JB):        401831810.177\n",
       "Skew:                          23.985   Prob(JB):                         0.00\n",
       "Kurtosis:                    1081.290   Cond. No.                     6.02e+04\n",
       "==============================================================================\n",
       "\n",
       "Notes:\n",
       "[1] Standard Errors assume that the covariance matrix of the errors is correctly specified.\n",
       "[2] The condition number is large, 6.02e+04. This might indicate that there are\n",
       "strong multicollinearity or other numerical problems.\n",
       "\"\"\""
      ]
     },
     "execution_count": 23,
     "metadata": {},
     "output_type": "execute_result"
    }
   ],
   "source": [
    "# linear regression model four\n",
    "reg4 = smf.ols(formula='earn_per_hour~sex+age+agepower+grade92', data=df).fit()\n",
    "reg4.summary()"
   ]
  },
  {
   "cell_type": "code",
   "execution_count": 24,
   "id": "5053cc6a",
   "metadata": {},
   "outputs": [],
   "source": [
    "# Model comparison\n",
    "models = ['model1', 'model2', 'model3', 'model4']\n",
    "rmse = [np.sqrt(reg1.mse_resid), np.sqrt(reg2.mse_resid), np.sqrt(reg3.mse_resid), np.sqrt(reg4.mse_resid)]\n",
    "bic = [reg1.bic, reg2.bic, reg3.bic, reg4.bic]"
   ]
  },
  {
   "cell_type": "code",
   "execution_count": 477,
   "id": "6b937014",
   "metadata": {},
   "outputs": [],
   "source": [
    "# cross-validation RMSE\n",
    "mse = cross_val_score(LinearRegression(), df[['sex']], df['earn_per_hour'], cv=5, scoring='neg_mean_squared_error')\n",
    "reg1_rmse = np.mean([np.sqrt(-x) for x in mse])\n",
    "\n",
    "mse = cross_val_score(LinearRegression(), df[['sex', 'age']], df['earn_per_hour'], cv=5, scoring='neg_mean_squared_error')\n",
    "reg2_rmse = np.mean([np.sqrt(-x) for x in mse])\n",
    "\n",
    "mse = cross_val_score(LinearRegression(), df[['sex', 'age', 'agepower']], df['earn_per_hour'], cv=5, scoring='neg_mean_squared_error')\n",
    "reg3_rmse = np.mean([np.sqrt(-x) for x in mse])\n",
    "\n",
    "mse = cross_val_score(LinearRegression(), df[['sex', 'age', 'agepower', 'grade92']], df['earn_per_hour'], cv=5, scoring='neg_mean_squared_error')\n",
    "reg4_rmse = np.mean([np.sqrt(-x) for x in mse])\n",
    "\n",
    "cv_rmse = [reg1_rmse, reg2_rmse, reg3_rmse, reg4_rmse]"
   ]
  },
  {
   "cell_type": "code",
   "execution_count": 486,
   "id": "bd726082",
   "metadata": {},
   "outputs": [
    {
     "name": "stdout",
     "output_type": "stream",
     "text": [
      "From left to right the model gradually becomes more complex.\n",
      "RMSE in the full sample: [20.65549024972839, 20.29105293705827, 20.212736815457355, 19.9280335820242]\n",
      "Cross-validated RMSE:    [19.791420769273916, 19.3948013711385, 19.31578492926771, 18.983999201857856]\n",
      "BIC in the full sample:  [73639.24484165398, 73352.55073808494, 73296.5478689116, 73069.71390798177]\n"
     ]
    }
   ],
   "source": [
    "print('From left to right the model gradually becomes more complex.')\n",
    "print('RMSE in the full sample:', rmse)\n",
    "print('Cross-validated RMSE:   ', cv_rmse)\n",
    "print('BIC in the full sample: ', bic)"
   ]
  },
  {
   "cell_type": "code",
   "execution_count": 472,
   "id": "b969a3c5",
   "metadata": {},
   "outputs": [],
   "source": [
    "# relationship between model complexity and performance"
   ]
  },
  {
   "cell_type": "code",
   "execution_count": 473,
   "id": "70f75552",
   "metadata": {},
   "outputs": [
    {
     "data": {
      "image/png": "[encoded data removed]",
      "text/plain": [
       "<Figure size 432x288 with 1 Axes>"
      ]
     },
     "metadata": {
      "needs_background": "light"
     },
     "output_type": "display_data"
    }
   ],
   "source": [
    "# RMSE in the full sample\n",
    "plt.bar(models, rmse)\n",
    "plt.xlabel('Linear Regression Models')\n",
    "plt.ylabel('RMSE')\n",
    "plt.ylim([19.7, 20.8])\n",
    "plt.show()"
   ]
  },
  {
   "cell_type": "code",
   "execution_count": 474,
   "id": "a2b54c32",
   "metadata": {},
   "outputs": [
    {
     "data": {
      "image/png": "[encoded data removed]",
      "text/plain": [
       "<Figure size 432x288 with 1 Axes>"
      ]
     },
     "metadata": {
      "needs_background": "light"
     },
     "output_type": "display_data"
    }
   ],
   "source": [
    "plt.bar(models, cv_rmse)\n",
    "plt.xlabel('Linear Regression Models')\n",
    "plt.ylabel('Cross-Validated RMSE')\n",
    "plt.ylim([18.7, 20])\n",
    "plt.show()"
   ]
  },
  {
   "cell_type": "code",
   "execution_count": 475,
   "id": "eab521e4",
   "metadata": {},
   "outputs": [
    {
     "data": {
      "image/png": "[encoded data removed]",
      "text/plain": [
       "<Figure size 432x288 with 1 Axes>"
      ]
     },
     "metadata": {
      "needs_background": "light"
     },
     "output_type": "display_data"
    }
   ],
   "source": [
    "# BIC in the full sample\n",
    "plt.bar(models, bic)\n",
    "plt.xlabel('Linear Regression Models')\n",
    "plt.ylabel('BIC')\n",
    "plt.ylim([73000, 73800])\n",
    "plt.show()"
   ]
  },
  {
   "cell_type": "code",
   "execution_count": null,
   "id": "e018a37a",
   "metadata": {},
   "outputs": [],
   "source": []
  },
  {
   "cell_type": "code",
   "execution_count": null,
   "id": "b9994216",
   "metadata": {},
   "outputs": [],
   "source": [
    "# 需要写在pdf的\n",
    "模型1选择性别作为predictor，Why？因为从对社会就业以及男女性工作能力分析得出，性别会对工资产生不小的影响。\n",
    "模型2在模型1的基础上添加年龄作为predictors。根据常识，不同年龄段的人工作能力差别大，且同一个人在不同年龄会拿到不同的工资。\n",
    "模型3在模型2的基础上添加了年龄的平方作为predictors。猜测增加年龄的平方会产生一些影响。\n",
    "模型4在模型3的基础上添加了grade92作为predictors，grade92表示这个人完成的最高学历。根据一般知识我们知道，一个人的学历越高，\n",
    "那么ta很可能拿到更多的工资。\n",
    "\n",
    "结果分析：\n",
    "前提知识，模型的BIC，RMSE评价指标越小表示模型的预测能力越好。从上三图可以看出，和为什么选择这些因素理由吻合。从模型1到模型2，可以看出rmse\n",
    "和bic均下降很多，模型3在模型2的基础上小幅度下降，增加最高学历信息后，模型4在所有模型中表现最优。"
   ]
  },
  {
   "cell_type": "code",
   "execution_count": null,
   "id": "9fb05204",
   "metadata": {},
   "outputs": [],
   "source": []
  }
 ],
 "metadata": {
  "kernelspec": {
   "display_name": "Python 3",
   "language": "python",
   "name": "python3"
  },
  "language_info": {
   "codemirror_mode": {
    "name": "ipython",
    "version": 3
   },
   "file_extension": ".py",
   "mimetype": "text/x-python",
   "name": "python",
   "nbconvert_exporter": "python",
   "pygments_lexer": "ipython3",
   "version": "3.8.8"
  }
 },
 "nbformat": 4,
 "nbformat_minor": 5
}
